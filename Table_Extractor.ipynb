{
 "cells": [
  {
   "cell_type": "markdown",
   "id": "96dd0642",
   "metadata": {},
   "source": [
    "### Import Libraries"
   ]
  },
  {
   "cell_type": "code",
   "execution_count": 1,
   "id": "97d91772",
   "metadata": {},
   "outputs": [],
   "source": [
    "import camelot\n",
    "import PyPDF2"
   ]
  },
  {
   "cell_type": "code",
   "execution_count": 2,
   "id": "1a521270",
   "metadata": {},
   "outputs": [],
   "source": [
    "PDF_FILE_PATH =\"/filepath/Python/foo.pdf\""
   ]
  },
  {
   "cell_type": "markdown",
   "id": "0fd51f9a",
   "metadata": {},
   "source": [
    "### Find tables in document"
   ]
  },
  {
   "cell_type": "code",
   "execution_count": 3,
   "id": "44f5786e",
   "metadata": {},
   "outputs": [
    {
     "name": "stdout",
     "output_type": "stream",
     "text": [
      "<TableList n=1>\n"
     ]
    }
   ],
   "source": [
    "tables = camelot.read_pdf(PDF_FILE_PATH, pages='1')\n",
    "print(tables)"
   ]
  },
  {
   "cell_type": "markdown",
   "id": "4d5a15f1",
   "metadata": {},
   "source": [
    "### Export tables to a .csv file"
   ]
  },
  {
   "cell_type": "code",
   "execution_count": 4,
   "id": "765dba0c",
   "metadata": {},
   "outputs": [],
   "source": [
    "tables.export('foo.csv', f='csv', compress=True)\n",
    "tables[0].to_csv('foo.csv')"
   ]
  },
  {
   "cell_type": "code",
   "execution_count": null,
   "id": "a0f14f11",
   "metadata": {},
   "outputs": [],
   "source": []
  }
 ],
 "metadata": {
  "kernelspec": {
   "display_name": "Python 3 (ipykernel)",
   "language": "python",
   "name": "python3"
  },
  "language_info": {
   "codemirror_mode": {
    "name": "ipython",
    "version": 3
   },
   "file_extension": ".py",
   "mimetype": "text/x-python",
   "name": "python",
   "nbconvert_exporter": "python",
   "pygments_lexer": "ipython3",
   "version": "3.9.15"
  },
  "varInspector": {
   "cols": {
    "lenName": 16,
    "lenType": 16,
    "lenVar": 40
   },
   "kernels_config": {
    "python": {
     "delete_cmd_postfix": "",
     "delete_cmd_prefix": "del ",
     "library": "var_list.py",
     "varRefreshCmd": "print(var_dic_list())"
    },
    "r": {
     "delete_cmd_postfix": ") ",
     "delete_cmd_prefix": "rm(",
     "library": "var_list.r",
     "varRefreshCmd": "cat(var_dic_list()) "
    }
   },
   "types_to_exclude": [
    "module",
    "function",
    "builtin_function_or_method",
    "instance",
    "_Feature"
   ],
   "window_display": false
  }
 },
 "nbformat": 4,
 "nbformat_minor": 5
}
