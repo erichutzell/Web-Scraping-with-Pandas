{
 "cells": [
  {
   "cell_type": "code",
   "execution_count": null,
   "id": "5bc1751a",
   "metadata": {},
   "outputs": [],
   "source": [
    "import pandas as pd"
   ]
  },
  {
   "cell_type": "markdown",
   "id": "52f49c46",
   "metadata": {},
   "source": [
    "## 1. Read a .csv from a URL with Pandas\n",
    "\n",
    "    Target website: https://football-data.co.uk/data.php"
   ]
  },
  {
   "cell_type": "code",
   "execution_count": null,
   "id": "89685bf6",
   "metadata": {},
   "outputs": [],
   "source": [
    "# reading 1 csv file from the website\n",
    "df_premier21 = pd.read_csv('https://football-data.co.uk/mmz4281/2223/E0.csv')"
   ]
  },
  {
   "cell_type": "code",
   "execution_count": null,
   "id": "eaef9914",
   "metadata": {},
   "outputs": [],
   "source": [
    "# showing the dataframe\n",
    "df_premier21"
   ]
  },
  {
   "cell_type": "code",
   "execution_count": null,
   "id": "b8e93dc3",
   "metadata": {},
   "outputs": [],
   "source": [
    "# rename the columns\n",
    "df_premier21.rename(columns={'FTHG':'home_goals',\n",
    "                            'FTAG':'away_goals'}, inplace=True)"
   ]
  },
  {
   "cell_type": "code",
   "execution_count": null,
   "id": "d99df9d8",
   "metadata": {},
   "outputs": [],
   "source": [
    "# show dataframe\n",
    "df_premier21"
   ]
  },
  {
   "cell_type": "code",
   "execution_count": null,
   "id": "5dbae7be",
   "metadata": {},
   "outputs": [],
   "source": []
  }
 ],
 "metadata": {
  "kernelspec": {
   "display_name": "Python 3 (ipykernel)",
   "language": "python",
   "name": "python3"
  },
  "language_info": {
   "codemirror_mode": {
    "name": "ipython",
    "version": 3
   },
   "file_extension": ".py",
   "mimetype": "text/x-python",
   "name": "python",
   "nbconvert_exporter": "python",
   "pygments_lexer": "ipython3",
   "version": "3.9.15"
  },
  "varInspector": {
   "cols": {
    "lenName": 16,
    "lenType": 16,
    "lenVar": 40
   },
   "kernels_config": {
    "python": {
     "delete_cmd_postfix": "",
     "delete_cmd_prefix": "del ",
     "library": "var_list.py",
     "varRefreshCmd": "print(var_dic_list())"
    },
    "r": {
     "delete_cmd_postfix": ") ",
     "delete_cmd_prefix": "rm(",
     "library": "var_list.r",
     "varRefreshCmd": "cat(var_dic_list()) "
    }
   },
   "types_to_exclude": [
    "module",
    "function",
    "builtin_function_or_method",
    "instance",
    "_Feature"
   ],
   "window_display": false
  }
 },
 "nbformat": 4,
 "nbformat_minor": 5
}
